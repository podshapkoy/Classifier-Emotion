{
 "cells": [
  {
   "metadata": {
    "ExecuteTime": {
     "end_time": "2025-06-25T10:42:46.441346Z",
     "start_time": "2025-06-25T10:42:40.268430Z"
    }
   },
   "cell_type": "code",
   "source": [
    "import os\n",
    "import numpy as np\n",
    "import pickle\n",
    "from scipy import signal\n",
    "from tqdm import tqdm\n",
    "import matplotlib.pyplot as plt\n",
    "from sklearn.model_selection import train_test_split\n",
    "from sklearn.metrics import classification_report\n",
    "from sklearn.utils.class_weight import compute_class_weight\n",
    "from imblearn.over_sampling import RandomOverSampler\n",
    "import tensorflow as tf\n",
    "from tensorflow.keras.models import Model\n",
    "from tensorflow.keras.layers import Input, Conv2D, MaxPooling2D, Flatten, Dense, Dropout\n",
    "from tensorflow.keras import regularizers"
   ],
   "id": "68b2a5ab2aecd96",
   "outputs": [
    {
     "name": "stderr",
     "output_type": "stream",
     "text": [
      "/Users/irina/PycharmProjects/pythonProject1/.venv/lib/python3.9/site-packages/urllib3/__init__.py:35: NotOpenSSLWarning: urllib3 v2 only supports OpenSSL 1.1.1+, currently the 'ssl' module is compiled with 'LibreSSL 2.8.3'. See: https://github.com/urllib3/urllib3/issues/3020\n",
      "  warnings.warn(\n"
     ]
    }
   ],
   "execution_count": 1
  },
  {
   "metadata": {
    "ExecuteTime": {
     "end_time": "2025-06-25T10:42:46.445729Z",
     "start_time": "2025-06-25T10:42:46.442199Z"
    }
   },
   "cell_type": "code",
   "source": [
    "DATA_PATH = '../data/deap-dataset/data_preprocessed_python'\n",
    "PARTICIPANT_COUNT = 25\n",
    "FS = 128\n",
    "WINDOW_SIZE = 8\n",
    "OVERLAP = 4\n",
    "\n",
    "# Частотные диапазоны\n",
    "BANDS = {\n",
    "    'alpha': (8, 13),\n",
    "    'beta': (14, 30),\n",
    "    'theta': (4, 7),\n",
    "    'gamma': (30, 45)\n",
    "}\n",
    "\n",
    "# Конфигурация обучения\n",
    "EPOCHS = 20\n",
    "BATCH_SIZE = 32\n",
    "LEARNING_RATE = 0.0001\n",
    "L2_REG = 0.01\n",
    "DROPOUT_RATE = 0.5\n",
    "PATIENCE_EARLYSTOP = 7\n",
    "PATIENCE_REDUCELR = 3\n",
    "LR_REDUCE_FACTOR = 0.5\n",
    "MODEL_SAVE_PATH = 'eeg_emotion_model.keras'\n",
    "RANDOM_STATE = 42\n",
    "\n",
    "# Задача: 'valence' или 'cluster'\n",
    "MODE = 'valence'\n",
    "NUM_CLASSES = 2 if MODE == 'valence' else 4"
   ],
   "id": "46a8c14f41c49b6",
   "outputs": [],
   "execution_count": 2
  },
  {
   "metadata": {
    "ExecuteTime": {
     "end_time": "2025-06-25T10:42:46.449067Z",
     "start_time": "2025-06-25T10:42:46.446540Z"
    }
   },
   "cell_type": "code",
   "source": [
    "def bandpass_filter(data, low, high, fs=FS, order=5):\n",
    "    nyq = 0.5 * fs\n",
    "    low, high = low / nyq, high / nyq\n",
    "    b, a = signal.butter(order, [low, high], btype='band')\n",
    "    return signal.filtfilt(b, a, data)"
   ],
   "id": "313d79b921a7c5d6",
   "outputs": [],
   "execution_count": 3
  },
  {
   "metadata": {
    "ExecuteTime": {
     "end_time": "2025-06-25T10:42:46.452547Z",
     "start_time": "2025-06-25T10:42:46.449799Z"
    }
   },
   "cell_type": "code",
   "source": [
    "def split_bands(eeg_data):\n",
    "    band_data = {}\n",
    "    for band, (low, high) in BANDS.items():\n",
    "        filtered = np.zeros_like(eeg_data)\n",
    "        for ch in range(eeg_data.shape[1]):\n",
    "            filtered[:, ch, :] = bandpass_filter(eeg_data[:, ch, :], low, high)\n",
    "        band_data[band] = filtered\n",
    "    return band_data"
   ],
   "id": "e8bc794468516809",
   "outputs": [],
   "execution_count": 4
  },
  {
   "metadata": {
    "ExecuteTime": {
     "end_time": "2025-06-25T10:42:46.457848Z",
     "start_time": "2025-06-25T10:42:46.455056Z"
    }
   },
   "cell_type": "code",
   "source": [
    "def segment_data(data, window_size=WINDOW_SIZE, overlap=OVERLAP):\n",
    "    n_trials, n_channels, n_samples = data.shape\n",
    "    step, overlap_step = window_size * FS, overlap * FS\n",
    "    segments = []\n",
    "    for trial in range(n_trials):\n",
    "        for i in range(0, n_samples - step + 1, overlap_step):\n",
    "            segment = data[trial, :, i:i+step]\n",
    "            segments.append(segment)\n",
    "    return np.array(segments)"
   ],
   "id": "13808df985b7aa55",
   "outputs": [],
   "execution_count": 5
  },
  {
   "metadata": {
    "ExecuteTime": {
     "end_time": "2025-06-25T10:42:46.460930Z",
     "start_time": "2025-06-25T10:42:46.458784Z"
    }
   },
   "cell_type": "code",
   "source": [
    "def extract_pcc(segments):\n",
    "    return np.array([np.corrcoef(seg) for seg in segments])"
   ],
   "id": "56de4e3c0c5d49e8",
   "outputs": [],
   "execution_count": 6
  },
  {
   "metadata": {
    "ExecuteTime": {
     "end_time": "2025-06-25T10:42:46.464131Z",
     "start_time": "2025-06-25T10:42:46.461904Z"
    }
   },
   "cell_type": "code",
   "source": [
    "def map_emotion_cluster(valence, arousal):\n",
    "    if valence > 5 and arousal > 5:\n",
    "        return 3\n",
    "    elif valence > 5 and arousal <= 5:\n",
    "        return 2\n",
    "    elif valence <= 5 and arousal > 5:\n",
    "        return 1\n",
    "    else:\n",
    "        return 0"
   ],
   "id": "d0c96510506939e9",
   "outputs": [],
   "execution_count": 7
  },
  {
   "metadata": {
    "ExecuteTime": {
     "end_time": "2025-06-25T10:42:46.467552Z",
     "start_time": "2025-06-25T10:42:46.465213Z"
    }
   },
   "cell_type": "code",
   "source": [
    "def get_callbacks():\n",
    "    return [\n",
    "        tf.keras.callbacks.EarlyStopping(monitor='val_loss', patience=PATIENCE_EARLYSTOP, restore_best_weights=True),\n",
    "        tf.keras.callbacks.ReduceLROnPlateau(monitor='val_loss', patience=PATIENCE_REDUCELR, factor=LR_REDUCE_FACTOR)\n",
    "    ]"
   ],
   "id": "3acacd528e8ddf10",
   "outputs": [],
   "execution_count": 8
  },
  {
   "metadata": {
    "ExecuteTime": {
     "end_time": "2025-06-25T10:42:46.472460Z",
     "start_time": "2025-06-25T10:42:46.468554Z"
    }
   },
   "cell_type": "code",
   "source": [
    "def create_model(input_shape, num_classes=NUM_CLASSES):\n",
    "    inputs = Input(shape=input_shape)\n",
    "    x = Conv2D(32, (3, 3), activation='relu', kernel_regularizer=regularizers.l2(L2_REG))(inputs)\n",
    "    x = MaxPooling2D((2, 2))(x)\n",
    "    x = Dropout(DROPOUT_RATE)(x)\n",
    "    x = Conv2D(64, (3, 3), activation='relu', kernel_regularizer=regularizers.l2(L2_REG))(x)\n",
    "    x = Flatten()(x)\n",
    "    x = Dense(128, activation='relu', kernel_regularizer=regularizers.l2(L2_REG))(x)\n",
    "    x = Dropout(DROPOUT_RATE)(x)\n",
    "    if num_classes == 2:\n",
    "        outputs = Dense(1, activation='sigmoid')(x)\n",
    "        loss = 'binary_crossentropy'\n",
    "    else:\n",
    "        outputs = Dense(num_classes, activation='softmax')(x)\n",
    "        loss = 'sparse_categorical_crossentropy'\n",
    "    model = Model(inputs, outputs)\n",
    "    model.compile(optimizer=tf.keras.optimizers.Adam(LEARNING_RATE), loss=loss, metrics=['accuracy'])\n",
    "    return model"
   ],
   "id": "faf3f89182e2df7b",
   "outputs": [],
   "execution_count": 9
  },
  {
   "metadata": {
    "ExecuteTime": {
     "end_time": "2025-06-25T10:42:54.870186Z",
     "start_time": "2025-06-25T10:42:54.864673Z"
    }
   },
   "cell_type": "code",
   "source": [
    "def load_deap_data():\n",
    "    all_data, all_labels = [], []\n",
    "    for i in tqdm(range(1, PARTICIPANT_COUNT + 1), desc=\"Загрузка участников\"):\n",
    "        file_path = os.path.join(DATA_PATH, f's{i:02d}.dat')\n",
    "        with open(file_path, 'rb') as f:\n",
    "            data = pickle.load(f, encoding='latin1')\n",
    "            eeg_data = data['data'][:, :32, 3*FS:]\n",
    "            gsr_data = data['data'][:, 37:38, 3*FS:]\n",
    "            eeg_gsr_data = np.concatenate([eeg_data, gsr_data], axis=1)\n",
    "            labels = data['labels']\n",
    "            all_data.append(eeg_gsr_data)\n",
    "            all_labels.append(labels)\n",
    "    return np.concatenate(all_data), np.concatenate(all_labels)"
   ],
   "id": "ac04d3cad194b5c7",
   "outputs": [],
   "execution_count": 10
  },
  {
   "metadata": {
    "ExecuteTime": {
     "end_time": "2025-06-25T10:44:11.898743Z",
     "start_time": "2025-06-25T10:42:55.858834Z"
    }
   },
   "cell_type": "code",
   "source": [
    "print(\"\\n[1] Загрузка и предобработка данных...\")\n",
    "eeg_data, labels = load_deap_data()\n",
    "\n",
    "if MODE == 'valence':\n",
    "    target_labels = (labels[:, 0] > 5).astype(int)\n",
    "else:\n",
    "    target_labels = np.array([map_emotion_cluster(v, a) for v, a in labels[:, :2]])\n",
    "\n",
    "print(\"\\n[2] Фильтрация и извлечение признаков...\")\n",
    "band_data = split_bands(eeg_data)\n",
    "X, y = [], []\n",
    "for band_name, data in band_data.items():\n",
    "    segments = segment_data(data)\n",
    "    pcc_features = extract_pcc(segments)\n",
    "    n_segments = len(pcc_features)\n",
    "    trial_labels = np.repeat(target_labels, n_segments // len(target_labels))\n",
    "    X.append(pcc_features)\n",
    "    y.append(trial_labels)\n",
    "\n",
    "X = np.concatenate(X)[..., np.newaxis]\n",
    "y = np.concatenate(y)\n",
    "\n",
    "print(f\"Форма данных: X={X.shape}, y={y.shape}\")"
   ],
   "id": "49cf071b5e4dd868",
   "outputs": [
    {
     "name": "stdout",
     "output_type": "stream",
     "text": [
      "\n",
      "[1] Загрузка и предобработка данных...\n"
     ]
    },
    {
     "name": "stderr",
     "output_type": "stream",
     "text": [
      "Загрузка участников: 100%|██████████| 25/25 [00:01<00:00, 21.89it/s]\n"
     ]
    },
    {
     "name": "stdout",
     "output_type": "stream",
     "text": [
      "\n",
      "[2] Фильтрация и извлечение признаков...\n",
      "Форма данных: X=(56000, 33, 33, 1), y=(56000,)\n"
     ]
    }
   ],
   "execution_count": 11
  },
  {
   "metadata": {
    "ExecuteTime": {
     "end_time": "2025-06-25T10:44:21.818999Z",
     "start_time": "2025-06-25T10:44:19.323575Z"
    }
   },
   "cell_type": "code",
   "source": [
    "X_flat = X.reshape(X.shape[0], -1)\n",
    "ros = RandomOverSampler(random_state=RANDOM_STATE)\n",
    "X_resampled, y_resampled = ros.fit_resample(X_flat, y)\n",
    "X = X_resampled.reshape(-1, *X.shape[1:])\n",
    "y = y_resampled\n",
    "\n",
    "X_train, X_test, y_train, y_test = train_test_split(X, y, stratify=y, test_size=0.2, random_state=RANDOM_STATE)"
   ],
   "id": "dcec2a0477b0ff66",
   "outputs": [
    {
     "name": "stderr",
     "output_type": "stream",
     "text": [
      "/Users/irina/PycharmProjects/pythonProject1/.venv/lib/python3.9/site-packages/sklearn/utils/deprecation.py:151: FutureWarning: 'force_all_finite' was renamed to 'ensure_all_finite' in 1.6 and will be removed in 1.8.\n",
      "  warnings.warn(\n",
      "/Users/irina/PycharmProjects/pythonProject1/.venv/lib/python3.9/site-packages/sklearn/base.py:484: FutureWarning: `BaseEstimator._check_n_features` is deprecated in 1.6 and will be removed in 1.7. Use `sklearn.utils.validation._check_n_features` instead.\n",
      "  warnings.warn(\n",
      "/Users/irina/PycharmProjects/pythonProject1/.venv/lib/python3.9/site-packages/sklearn/base.py:493: FutureWarning: `BaseEstimator._check_feature_names` is deprecated in 1.6 and will be removed in 1.7. Use `sklearn.utils.validation._check_feature_names` instead.\n",
      "  warnings.warn(\n"
     ]
    }
   ],
   "execution_count": 12
  },
  {
   "metadata": {
    "ExecuteTime": {
     "end_time": "2025-06-25T10:44:27.032858Z",
     "start_time": "2025-06-25T10:44:27.017123Z"
    }
   },
   "cell_type": "code",
   "source": [
    "class_weights = compute_class_weight(class_weight='balanced', classes=np.unique(y_train), y=y_train)\n",
    "class_weight_dict = dict(enumerate(class_weights))"
   ],
   "id": "c0d8b4a1dd75035",
   "outputs": [],
   "execution_count": 13
  },
  {
   "metadata": {
    "ExecuteTime": {
     "end_time": "2025-06-25T10:54:21.624261Z",
     "start_time": "2025-06-25T10:44:28.709649Z"
    }
   },
   "cell_type": "code",
   "source": [
    "print(\"\\n[3] Обучение модели...\")\n",
    "model = create_model(input_shape=X.shape[1:])\n",
    "history = model.fit(\n",
    "    X_train, y_train,\n",
    "    epochs=EPOCHS,\n",
    "    batch_size=BATCH_SIZE,\n",
    "    validation_data=(X_test, y_test),\n",
    "    class_weight=class_weight_dict,\n",
    "    callbacks=get_callbacks(),\n",
    "    verbose=1\n",
    ")"
   ],
   "id": "d1b31fa8aa7c1c36",
   "outputs": [
    {
     "name": "stdout",
     "output_type": "stream",
     "text": [
      "\n",
      "[3] Обучение модели...\n",
      "Epoch 1/20\n",
      "\u001B[1m2235/2235\u001B[0m \u001B[32m━━━━━━━━━━━━━━━━━━━━\u001B[0m\u001B[37m\u001B[0m \u001B[1m31s\u001B[0m 14ms/step - accuracy: 0.6099 - loss: 1.5745 - val_accuracy: 0.6396 - val_loss: 0.6876 - learning_rate: 1.0000e-04\n",
      "Epoch 2/20\n",
      "\u001B[1m2235/2235\u001B[0m \u001B[32m━━━━━━━━━━━━━━━━━━━━\u001B[0m\u001B[37m\u001B[0m \u001B[1m30s\u001B[0m 13ms/step - accuracy: 0.6335 - loss: 0.6806 - val_accuracy: 0.6415 - val_loss: 0.6637 - learning_rate: 1.0000e-04\n",
      "Epoch 3/20\n",
      "\u001B[1m2235/2235\u001B[0m \u001B[32m━━━━━━━━━━━━━━━━━━━━\u001B[0m\u001B[37m\u001B[0m \u001B[1m29s\u001B[0m 13ms/step - accuracy: 0.6353 - loss: 0.6675 - val_accuracy: 0.6420 - val_loss: 0.6616 - learning_rate: 1.0000e-04\n",
      "Epoch 4/20\n",
      "\u001B[1m2235/2235\u001B[0m \u001B[32m━━━━━━━━━━━━━━━━━━━━\u001B[0m\u001B[37m\u001B[0m \u001B[1m30s\u001B[0m 14ms/step - accuracy: 0.6366 - loss: 0.6622 - val_accuracy: 0.6429 - val_loss: 0.6568 - learning_rate: 1.0000e-04\n",
      "Epoch 5/20\n",
      "\u001B[1m2235/2235\u001B[0m \u001B[32m━━━━━━━━━━━━━━━━━━━━\u001B[0m\u001B[37m\u001B[0m \u001B[1m30s\u001B[0m 13ms/step - accuracy: 0.6392 - loss: 0.6600 - val_accuracy: 0.6370 - val_loss: 0.6550 - learning_rate: 1.0000e-04\n",
      "Epoch 6/20\n",
      "\u001B[1m2235/2235\u001B[0m \u001B[32m━━━━━━━━━━━━━━━━━━━━\u001B[0m\u001B[37m\u001B[0m \u001B[1m30s\u001B[0m 14ms/step - accuracy: 0.6455 - loss: 0.6552 - val_accuracy: 0.6393 - val_loss: 0.6580 - learning_rate: 1.0000e-04\n",
      "Epoch 7/20\n",
      "\u001B[1m2235/2235\u001B[0m \u001B[32m━━━━━━━━━━━━━━━━━━━━\u001B[0m\u001B[37m\u001B[0m \u001B[1m31s\u001B[0m 14ms/step - accuracy: 0.6413 - loss: 0.6553 - val_accuracy: 0.6453 - val_loss: 0.6520 - learning_rate: 1.0000e-04\n",
      "Epoch 8/20\n",
      "\u001B[1m2235/2235\u001B[0m \u001B[32m━━━━━━━━━━━━━━━━━━━━\u001B[0m\u001B[37m\u001B[0m \u001B[1m30s\u001B[0m 14ms/step - accuracy: 0.6421 - loss: 0.6524 - val_accuracy: 0.6457 - val_loss: 0.6494 - learning_rate: 1.0000e-04\n",
      "Epoch 9/20\n",
      "\u001B[1m2235/2235\u001B[0m \u001B[32m━━━━━━━━━━━━━━━━━━━━\u001B[0m\u001B[37m\u001B[0m \u001B[1m28s\u001B[0m 12ms/step - accuracy: 0.6462 - loss: 0.6511 - val_accuracy: 0.6384 - val_loss: 0.6516 - learning_rate: 1.0000e-04\n",
      "Epoch 10/20\n",
      "\u001B[1m2235/2235\u001B[0m \u001B[32m━━━━━━━━━━━━━━━━━━━━\u001B[0m\u001B[37m\u001B[0m \u001B[1m28s\u001B[0m 12ms/step - accuracy: 0.6428 - loss: 0.6517 - val_accuracy: 0.6474 - val_loss: 0.6478 - learning_rate: 1.0000e-04\n",
      "Epoch 11/20\n",
      "\u001B[1m2235/2235\u001B[0m \u001B[32m━━━━━━━━━━━━━━━━━━━━\u001B[0m\u001B[37m\u001B[0m \u001B[1m28s\u001B[0m 13ms/step - accuracy: 0.6424 - loss: 0.6510 - val_accuracy: 0.6446 - val_loss: 0.6478 - learning_rate: 1.0000e-04\n",
      "Epoch 12/20\n",
      "\u001B[1m2235/2235\u001B[0m \u001B[32m━━━━━━━━━━━━━━━━━━━━\u001B[0m\u001B[37m\u001B[0m \u001B[1m28s\u001B[0m 12ms/step - accuracy: 0.6434 - loss: 0.6508 - val_accuracy: 0.6425 - val_loss: 0.6460 - learning_rate: 1.0000e-04\n",
      "Epoch 13/20\n",
      "\u001B[1m2235/2235\u001B[0m \u001B[32m━━━━━━━━━━━━━━━━━━━━\u001B[0m\u001B[37m\u001B[0m \u001B[1m28s\u001B[0m 12ms/step - accuracy: 0.6433 - loss: 0.6492 - val_accuracy: 0.6462 - val_loss: 0.6462 - learning_rate: 1.0000e-04\n",
      "Epoch 14/20\n",
      "\u001B[1m2235/2235\u001B[0m \u001B[32m━━━━━━━━━━━━━━━━━━━━\u001B[0m\u001B[37m\u001B[0m \u001B[1m29s\u001B[0m 13ms/step - accuracy: 0.6413 - loss: 0.6486 - val_accuracy: 0.6416 - val_loss: 0.6454 - learning_rate: 1.0000e-04\n",
      "Epoch 15/20\n",
      "\u001B[1m2235/2235\u001B[0m \u001B[32m━━━━━━━━━━━━━━━━━━━━\u001B[0m\u001B[37m\u001B[0m \u001B[1m30s\u001B[0m 14ms/step - accuracy: 0.6400 - loss: 0.6505 - val_accuracy: 0.6453 - val_loss: 0.6452 - learning_rate: 1.0000e-04\n",
      "Epoch 16/20\n",
      "\u001B[1m2235/2235\u001B[0m \u001B[32m━━━━━━━━━━━━━━━━━━━━\u001B[0m\u001B[37m\u001B[0m \u001B[1m31s\u001B[0m 14ms/step - accuracy: 0.6445 - loss: 0.6468 - val_accuracy: 0.6476 - val_loss: 0.6452 - learning_rate: 1.0000e-04\n",
      "Epoch 17/20\n",
      "\u001B[1m2235/2235\u001B[0m \u001B[32m━━━━━━━━━━━━━━━━━━━━\u001B[0m\u001B[37m\u001B[0m \u001B[1m30s\u001B[0m 14ms/step - accuracy: 0.6458 - loss: 0.6446 - val_accuracy: 0.6457 - val_loss: 0.6451 - learning_rate: 1.0000e-04\n",
      "Epoch 18/20\n",
      "\u001B[1m2235/2235\u001B[0m \u001B[32m━━━━━━━━━━━━━━━━━━━━\u001B[0m\u001B[37m\u001B[0m \u001B[1m30s\u001B[0m 13ms/step - accuracy: 0.6426 - loss: 0.6460 - val_accuracy: 0.6495 - val_loss: 0.6426 - learning_rate: 1.0000e-04\n",
      "Epoch 19/20\n",
      "\u001B[1m2235/2235\u001B[0m \u001B[32m━━━━━━━━━━━━━━━━━━━━\u001B[0m\u001B[37m\u001B[0m \u001B[1m30s\u001B[0m 13ms/step - accuracy: 0.6464 - loss: 0.6454 - val_accuracy: 0.6448 - val_loss: 0.6433 - learning_rate: 1.0000e-04\n",
      "Epoch 20/20\n",
      "\u001B[1m2235/2235\u001B[0m \u001B[32m━━━━━━━━━━━━━━━━━━━━\u001B[0m\u001B[37m\u001B[0m \u001B[1m30s\u001B[0m 14ms/step - accuracy: 0.6457 - loss: 0.6476 - val_accuracy: 0.6471 - val_loss: 0.6436 - learning_rate: 1.0000e-04\n"
     ]
    }
   ],
   "execution_count": 14
  },
  {
   "metadata": {
    "ExecuteTime": {
     "end_time": "2025-06-25T10:54:33.904703Z",
     "start_time": "2025-06-25T10:54:33.832035Z"
    }
   },
   "cell_type": "code",
   "source": "model.save(MODEL_SAVE_PATH)",
   "id": "86c46d13c0291d6d",
   "outputs": [],
   "execution_count": 15
  },
  {
   "metadata": {
    "ExecuteTime": {
     "end_time": "2025-06-25T10:54:38.853771Z",
     "start_time": "2025-06-25T10:54:34.641281Z"
    }
   },
   "cell_type": "code",
   "source": [
    "print(\"\\n[4] Оценка модели...\")\n",
    "test_loss, test_acc = model.evaluate(X_test, y_test)\n",
    "y_pred = model.predict(X_test)\n",
    "y_pred = (y_pred > 0.5).astype(int) if NUM_CLASSES == 2 else np.argmax(y_pred, axis=1)\n",
    "print(f\"\\nТочность: {test_acc:.4f}, Потери: {test_loss:.4f}\")\n",
    "print(\"\\nClassification Report:\\n\", classification_report(y_test, y_pred))"
   ],
   "id": "1ae8bc55d0f4bb76",
   "outputs": [
    {
     "name": "stdout",
     "output_type": "stream",
     "text": [
      "\n",
      "[4] Оценка модели...\n",
      "\u001B[1m559/559\u001B[0m \u001B[32m━━━━━━━━━━━━━━━━━━━━\u001B[0m\u001B[37m\u001B[0m \u001B[1m2s\u001B[0m 4ms/step - accuracy: 0.6504 - loss: 0.6406\n",
      "\u001B[1m559/559\u001B[0m \u001B[32m━━━━━━━━━━━━━━━━━━━━\u001B[0m\u001B[37m\u001B[0m \u001B[1m2s\u001B[0m 3ms/step\n",
      "\n",
      "Точность: 0.6495, Потери: 0.6426\n",
      "\n",
      "Classification Report:\n",
      "               precision    recall  f1-score   support\n",
      "\n",
      "           0       0.65      0.65      0.65      8938\n",
      "           1       0.65      0.65      0.65      8938\n",
      "\n",
      "    accuracy                           0.65     17876\n",
      "   macro avg       0.65      0.65      0.65     17876\n",
      "weighted avg       0.65      0.65      0.65     17876\n",
      "\n"
     ]
    }
   ],
   "execution_count": 16
  },
  {
   "metadata": {
    "ExecuteTime": {
     "end_time": "2025-06-25T10:55:20.023953Z",
     "start_time": "2025-06-25T10:55:19.712673Z"
    }
   },
   "cell_type": "code",
   "source": [
    "plt.figure(figsize=(12, 4))\n",
    "plt.subplot(1, 2, 1)\n",
    "plt.plot(history.history['accuracy'], label='Train Accuracy')\n",
    "plt.plot(history.history['val_accuracy'], label='Validation Accuracy')\n",
    "plt.title('Accuracy')\n",
    "plt.legend()\n",
    "plt.subplot(1, 2, 2)\n",
    "plt.plot(history.history['loss'], label='Train Loss')\n",
    "plt.plot(history.history['val_loss'], label='Validation Loss')\n",
    "plt.title('Loss')\n",
    "plt.legend()\n",
    "plt.tight_layout()\n",
    "plt.show()"
   ],
   "id": "df27d60a935a2f75",
   "outputs": [
    {
     "data": {
      "text/plain": [
       "<Figure size 1200x400 with 2 Axes>"
      ],
      "image/png": "[encoded data removed]"
     },
     "metadata": {},
     "output_type": "display_data"
    }
   ],
   "execution_count": 17
  },
  {
   "metadata": {},
   "cell_type": "code",
   "outputs": [],
   "execution_count": null,
   "source": "",
   "id": "ce046db1836faca6"
  }
 ],
 "metadata": {
  "kernelspec": {
   "display_name": "Python 3",
   "language": "python",
   "name": "python3"
  },
  "language_info": {
   "codemirror_mode": {
    "name": "ipython",
    "version": 2
   },
   "file_extension": ".py",
   "mimetype": "text/x-python",
   "name": "python",
   "nbconvert_exporter": "python",
   "pygments_lexer": "ipython2",
   "version": "2.7.6"
  }
 },
 "nbformat": 4,
 "nbformat_minor": 5
}
