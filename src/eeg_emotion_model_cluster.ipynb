{
 "cells": [
  {
   "metadata": {
    "ExecuteTime": {
     "end_time": "2025-06-25T11:24:06.860243Z",
     "start_time": "2025-06-25T11:24:03.190549Z"
    }
   },
   "cell_type": "code",
   "source": [
    "import os\n",
    "import numpy as np\n",
    "import pickle\n",
    "from scipy import signal\n",
    "from tqdm import tqdm\n",
    "import matplotlib.pyplot as plt\n",
    "from sklearn.model_selection import train_test_split\n",
    "from sklearn.metrics import classification_report\n",
    "from sklearn.utils.class_weight import compute_class_weight\n",
    "import tensorflow as tf\n",
    "from tensorflow.keras.models import Model\n",
    "from tensorflow.keras.layers import Input, Conv2D, MaxPooling2D, Flatten, Dense, Dropout\n",
    "from tensorflow.keras import regularizers"
   ],
   "id": "5b3920db7ce302d5",
   "outputs": [
    {
     "name": "stderr",
     "output_type": "stream",
     "text": [
      "/Users/irina/PycharmProjects/pythonProject1/.venv/lib/python3.9/site-packages/urllib3/__init__.py:35: NotOpenSSLWarning: urllib3 v2 only supports OpenSSL 1.1.1+, currently the 'ssl' module is compiled with 'LibreSSL 2.8.3'. See: https://github.com/urllib3/urllib3/issues/3020\n",
      "  warnings.warn(\n"
     ]
    }
   ],
   "execution_count": 1
  },
  {
   "metadata": {
    "ExecuteTime": {
     "end_time": "2025-06-25T11:24:10.033734Z",
     "start_time": "2025-06-25T11:24:10.030144Z"
    }
   },
   "cell_type": "code",
   "source": [
    "DATA_PATH = '../data/deap-dataset/data_preprocessed_python'\n",
    "PARTICIPANT_COUNT = 25\n",
    "FS = 128\n",
    "WINDOW_SIZE = 8\n",
    "OVERLAP = 4\n",
    "\n",
    "# Частотные диапазоны\n",
    "BANDS = {\n",
    "    'alpha': (8, 13),\n",
    "    'beta': (14, 30),\n",
    "    'theta': (4, 7),\n",
    "    'gamma': (30, 45)\n",
    "}\n",
    "\n",
    "# Конфигурация обучения\n",
    "EPOCHS = 20\n",
    "BATCH_SIZE = 32\n",
    "LEARNING_RATE = 0.0001\n",
    "L2_REG = 0.01\n",
    "DROPOUT_RATE = 0.5\n",
    "PATIENCE_EARLYSTOP = 7\n",
    "PATIENCE_REDUCELR = 3\n",
    "LR_REDUCE_FACTOR = 0.5\n",
    "MODEL_SAVE_PATH = '../data/eeg_emotion_model_cluster.keras'\n",
    "RANDOM_STATE = 42\n",
    "\n",
    "# Задача: 'valence' или 'cluster'\n",
    "MODE = 'cluster'\n",
    "NUM_CLASSES = 2 if MODE == 'valence' else 4"
   ],
   "id": "c94a978d751c8f1e",
   "outputs": [],
   "execution_count": 2
  },
  {
   "metadata": {
    "ExecuteTime": {
     "end_time": "2025-06-25T11:24:16.573150Z",
     "start_time": "2025-06-25T11:24:16.570376Z"
    }
   },
   "cell_type": "code",
   "source": [
    "def bandpass_filter(data, low, high, fs=FS, order=5):\n",
    "    nyq = 0.5 * fs\n",
    "    low, high = low / nyq, high / nyq\n",
    "    b, a = signal.butter(order, [low, high], btype='band')\n",
    "    return signal.filtfilt(b, a, data)"
   ],
   "id": "f9d295c892b6ffdf",
   "outputs": [],
   "execution_count": 3
  },
  {
   "metadata": {
    "ExecuteTime": {
     "end_time": "2025-06-25T11:24:20.506066Z",
     "start_time": "2025-06-25T11:24:20.503281Z"
    }
   },
   "cell_type": "code",
   "source": [
    "def split_bands(eeg_data):\n",
    "    band_data = {}\n",
    "    for band, (low, high) in BANDS.items():\n",
    "        filtered = np.zeros_like(eeg_data)\n",
    "        for ch in range(eeg_data.shape[1]):\n",
    "            filtered[:, ch, :] = bandpass_filter(eeg_data[:, ch, :], low, high)\n",
    "        band_data[band] = filtered\n",
    "    return band_data"
   ],
   "id": "94f6a9e64a4ace6c",
   "outputs": [],
   "execution_count": 4
  },
  {
   "metadata": {
    "ExecuteTime": {
     "end_time": "2025-06-25T11:24:25.276082Z",
     "start_time": "2025-06-25T11:24:25.273120Z"
    }
   },
   "cell_type": "code",
   "source": [
    "def segment_data(data, window_size=WINDOW_SIZE, overlap=OVERLAP):\n",
    "    n_trials, n_channels, n_samples = data.shape\n",
    "    step, overlap_step = window_size * FS, overlap * FS\n",
    "    segments = []\n",
    "    for trial in range(n_trials):\n",
    "        for i in range(0, n_samples - step + 1, overlap_step):\n",
    "            segment = data[trial, :, i:i+step]\n",
    "            segments.append(segment)\n",
    "    return np.array(segments)"
   ],
   "id": "6a877d75ff345b2f",
   "outputs": [],
   "execution_count": 5
  },
  {
   "metadata": {
    "ExecuteTime": {
     "end_time": "2025-06-25T11:24:30.681877Z",
     "start_time": "2025-06-25T11:24:30.679742Z"
    }
   },
   "cell_type": "code",
   "source": [
    "def extract_pcc(segments):\n",
    "    return np.array([np.corrcoef(seg) for seg in segments])"
   ],
   "id": "c478798ab066b73d",
   "outputs": [],
   "execution_count": 6
  },
  {
   "metadata": {
    "ExecuteTime": {
     "end_time": "2025-06-25T11:24:34.809113Z",
     "start_time": "2025-06-25T11:24:34.806518Z"
    }
   },
   "cell_type": "code",
   "source": [
    "def map_emotion_cluster(valence, arousal):\n",
    "    if valence > 5 and arousal > 5:\n",
    "        return 3\n",
    "    elif valence > 5 and arousal <= 5:\n",
    "        return 2\n",
    "    elif valence <= 5 and arousal > 5:\n",
    "        return 1\n",
    "    else:\n",
    "        return 0"
   ],
   "id": "e4c5522dac829e73",
   "outputs": [],
   "execution_count": 7
  },
  {
   "metadata": {
    "ExecuteTime": {
     "end_time": "2025-06-25T11:24:39.950456Z",
     "start_time": "2025-06-25T11:24:39.947898Z"
    }
   },
   "cell_type": "code",
   "source": [
    "def get_callbacks():\n",
    "    return [\n",
    "        tf.keras.callbacks.EarlyStopping(monitor='val_loss', patience=PATIENCE_EARLYSTOP, restore_best_weights=True),\n",
    "        tf.keras.callbacks.ReduceLROnPlateau(monitor='val_loss', patience=PATIENCE_REDUCELR, factor=LR_REDUCE_FACTOR)\n",
    "    ]"
   ],
   "id": "2d430229f4622e2e",
   "outputs": [],
   "execution_count": 8
  },
  {
   "metadata": {
    "ExecuteTime": {
     "end_time": "2025-06-25T11:24:45.117180Z",
     "start_time": "2025-06-25T11:24:45.112842Z"
    }
   },
   "cell_type": "code",
   "source": [
    "def create_model(input_shape, num_classes=NUM_CLASSES):\n",
    "    inputs = Input(shape=input_shape)\n",
    "    x = Conv2D(32, (3, 3), activation='relu', kernel_regularizer=regularizers.l2(L2_REG))(inputs)\n",
    "    x = MaxPooling2D((2, 2))(x)\n",
    "    x = Dropout(DROPOUT_RATE)(x)\n",
    "    x = Conv2D(64, (3, 3), activation='relu', kernel_regularizer=regularizers.l2(L2_REG))(x)\n",
    "    x = Flatten()(x)\n",
    "    x = Dense(128, activation='relu', kernel_regularizer=regularizers.l2(L2_REG))(x)\n",
    "    x = Dropout(DROPOUT_RATE)(x)\n",
    "    if num_classes == 2:\n",
    "        outputs = Dense(1, activation='sigmoid')(x)\n",
    "        loss = 'binary_crossentropy'\n",
    "    else:\n",
    "        outputs = Dense(num_classes, activation='softmax')(x)\n",
    "        loss = 'sparse_categorical_crossentropy'\n",
    "    model = Model(inputs, outputs)\n",
    "    model.compile(optimizer=tf.keras.optimizers.Adam(LEARNING_RATE), loss=loss, metrics=['accuracy'])\n",
    "    return model"
   ],
   "id": "16dcfff22e9b836",
   "outputs": [],
   "execution_count": 9
  },
  {
   "metadata": {
    "ExecuteTime": {
     "end_time": "2025-06-25T11:24:51.857487Z",
     "start_time": "2025-06-25T11:24:51.853933Z"
    }
   },
   "cell_type": "code",
   "source": [
    "def load_deap_data():\n",
    "    all_data, all_labels = [], []\n",
    "    for i in tqdm(range(1, PARTICIPANT_COUNT + 1), desc=\"Загрузка участников\"):\n",
    "        file_path = os.path.join(DATA_PATH, f's{i:02d}.dat')\n",
    "        with open(file_path, 'rb') as f:\n",
    "            data = pickle.load(f, encoding='latin1')\n",
    "            eeg_data = data['data'][:, :32, 3*FS:]\n",
    "            gsr_data = data['data'][:, 37:38, 3*FS:]\n",
    "            eeg_gsr_data = np.concatenate([eeg_data, gsr_data], axis=1)\n",
    "            labels = data['labels']\n",
    "            all_data.append(eeg_gsr_data)\n",
    "            all_labels.append(labels)\n",
    "    return np.concatenate(all_data), np.concatenate(all_labels)"
   ],
   "id": "86563a10c9389d99",
   "outputs": [],
   "execution_count": 10
  },
  {
   "metadata": {
    "ExecuteTime": {
     "end_time": "2025-06-25T11:26:53.256037Z",
     "start_time": "2025-06-25T11:25:11.551626Z"
    }
   },
   "cell_type": "code",
   "source": [
    "print(\"\\n[1] Загрузка и предобработка данных...\")\n",
    "eeg_data, labels = load_deap_data()\n",
    "\n",
    "if MODE == 'valence':\n",
    "    target_labels = (labels[:, 0] > 5).astype(int)\n",
    "else:\n",
    "    target_labels = np.array([map_emotion_cluster(v, a) for v, a in labels[:, :2]])\n",
    "\n",
    "print(\"\\n[2] Фильтрация и извлечение признаков...\")\n",
    "band_data = split_bands(eeg_data)\n",
    "X, y = [], []\n",
    "for band_name, data in band_data.items():\n",
    "    segments = segment_data(data)\n",
    "    pcc_features = extract_pcc(segments)\n",
    "    n_segments = len(pcc_features)\n",
    "    trial_labels = np.repeat(target_labels, n_segments // len(target_labels))\n",
    "    X.append(pcc_features)\n",
    "    y.append(trial_labels)\n",
    "\n",
    "X = np.concatenate(X)[..., np.newaxis]\n",
    "y = np.concatenate(y)\n",
    "\n",
    "print(f\"Форма данных: X={X.shape}, y={y.shape}\")\n",
    "\n",
    "X_train, X_test, y_train, y_test = train_test_split(X, y, stratify=y, test_size=0.2, random_state=RANDOM_STATE)\n",
    "\n",
    "class_weights = compute_class_weight(class_weight='balanced', classes=np.unique(y_train), y=y_train)\n",
    "class_weight_dict = dict(enumerate(class_weights))"
   ],
   "id": "49c78352507160bd",
   "outputs": [
    {
     "name": "stdout",
     "output_type": "stream",
     "text": [
      "\n",
      "[1] Загрузка и предобработка данных...\n"
     ]
    },
    {
     "name": "stderr",
     "output_type": "stream",
     "text": [
      "Загрузка участников: 100%|██████████| 25/25 [00:01<00:00, 13.26it/s]\n"
     ]
    },
    {
     "name": "stdout",
     "output_type": "stream",
     "text": [
      "\n",
      "[2] Фильтрация и извлечение признаков...\n",
      "Форма данных: X=(56000, 33, 33, 1), y=(56000,)\n"
     ]
    }
   ],
   "execution_count": 11
  },
  {
   "metadata": {
    "ExecuteTime": {
     "end_time": "2025-06-25T11:31:43.794618Z",
     "start_time": "2025-06-25T11:27:29.586242Z"
    }
   },
   "cell_type": "code",
   "source": [
    "print(\"\\n[3] Обучение модели...\")\n",
    "model = create_model(input_shape=X.shape[1:])\n",
    "history = model.fit(\n",
    "    X_train, y_train,\n",
    "    epochs=EPOCHS,\n",
    "    batch_size=BATCH_SIZE,\n",
    "    validation_data=(X_test, y_test),\n",
    "    class_weight=class_weight_dict,\n",
    "    callbacks=get_callbacks(),\n",
    "    verbose=1\n",
    ")"
   ],
   "id": "4831dd62082a8f",
   "outputs": [
    {
     "name": "stdout",
     "output_type": "stream",
     "text": [
      "\n",
      "[3] Обучение модели...\n",
      "Epoch 1/20\n",
      "\u001B[1m1400/1400\u001B[0m \u001B[32m━━━━━━━━━━━━━━━━━━━━\u001B[0m\u001B[37m\u001B[0m \u001B[1m18s\u001B[0m 12ms/step - accuracy: 0.3947 - loss: 2.5925 - val_accuracy: 0.3802 - val_loss: 1.3371 - learning_rate: 1.0000e-04\n",
      "Epoch 2/20\n",
      "\u001B[1m1400/1400\u001B[0m \u001B[32m━━━━━━━━━━━━━━━━━━━━\u001B[0m\u001B[37m\u001B[0m \u001B[1m17s\u001B[0m 12ms/step - accuracy: 0.4226 - loss: 1.2298 - val_accuracy: 0.3966 - val_loss: 1.1415 - learning_rate: 1.0000e-04\n",
      "Epoch 3/20\n",
      "\u001B[1m1400/1400\u001B[0m \u001B[32m━━━━━━━━━━━━━━━━━━━━\u001B[0m\u001B[37m\u001B[0m \u001B[1m19s\u001B[0m 13ms/step - accuracy: 0.4102 - loss: 1.1084 - val_accuracy: 0.4522 - val_loss: 1.0609 - learning_rate: 1.0000e-04\n",
      "Epoch 4/20\n",
      "\u001B[1m1400/1400\u001B[0m \u001B[32m━━━━━━━━━━━━━━━━━━━━\u001B[0m\u001B[37m\u001B[0m \u001B[1m18s\u001B[0m 13ms/step - accuracy: 0.4155 - loss: 1.0831 - val_accuracy: 0.3923 - val_loss: 1.0947 - learning_rate: 1.0000e-04\n",
      "Epoch 5/20\n",
      "\u001B[1m1400/1400\u001B[0m \u001B[32m━━━━━━━━━━━━━━━━━━━━\u001B[0m\u001B[37m\u001B[0m \u001B[1m19s\u001B[0m 13ms/step - accuracy: 0.4121 - loss: 1.0698 - val_accuracy: 0.4100 - val_loss: 1.0851 - learning_rate: 1.0000e-04\n",
      "Epoch 6/20\n",
      "\u001B[1m1400/1400\u001B[0m \u001B[32m━━━━━━━━━━━━━━━━━━━━\u001B[0m\u001B[37m\u001B[0m \u001B[1m18s\u001B[0m 13ms/step - accuracy: 0.4157 - loss: 1.0622 - val_accuracy: 0.4319 - val_loss: 1.0636 - learning_rate: 1.0000e-04\n",
      "Epoch 7/20\n",
      "\u001B[1m1400/1400\u001B[0m \u001B[32m━━━━━━━━━━━━━━━━━━━━\u001B[0m\u001B[37m\u001B[0m \u001B[1m18s\u001B[0m 13ms/step - accuracy: 0.4230 - loss: 1.0523 - val_accuracy: 0.4532 - val_loss: 1.0469 - learning_rate: 5.0000e-05\n",
      "Epoch 8/20\n",
      "\u001B[1m1400/1400\u001B[0m \u001B[32m━━━━━━━━━━━━━━━━━━━━\u001B[0m\u001B[37m\u001B[0m \u001B[1m18s\u001B[0m 13ms/step - accuracy: 0.4208 - loss: 1.0582 - val_accuracy: 0.4001 - val_loss: 1.0828 - learning_rate: 5.0000e-05\n",
      "Epoch 9/20\n",
      "\u001B[1m1400/1400\u001B[0m \u001B[32m━━━━━━━━━━━━━━━━━━━━\u001B[0m\u001B[37m\u001B[0m \u001B[1m18s\u001B[0m 13ms/step - accuracy: 0.4160 - loss: 1.0563 - val_accuracy: 0.4412 - val_loss: 1.0520 - learning_rate: 5.0000e-05\n",
      "Epoch 10/20\n",
      "\u001B[1m1400/1400\u001B[0m \u001B[32m━━━━━━━━━━━━━━━━━━━━\u001B[0m\u001B[37m\u001B[0m \u001B[1m17s\u001B[0m 12ms/step - accuracy: 0.4261 - loss: 1.0506 - val_accuracy: 0.4039 - val_loss: 1.0731 - learning_rate: 5.0000e-05\n",
      "Epoch 11/20\n",
      "\u001B[1m1400/1400\u001B[0m \u001B[32m━━━━━━━━━━━━━━━━━━━━\u001B[0m\u001B[37m\u001B[0m \u001B[1m18s\u001B[0m 13ms/step - accuracy: 0.4210 - loss: 1.0466 - val_accuracy: 0.4350 - val_loss: 1.0537 - learning_rate: 2.5000e-05\n",
      "Epoch 12/20\n",
      "\u001B[1m1400/1400\u001B[0m \u001B[32m━━━━━━━━━━━━━━━━━━━━\u001B[0m\u001B[37m\u001B[0m \u001B[1m18s\u001B[0m 13ms/step - accuracy: 0.4261 - loss: 1.0465 - val_accuracy: 0.4244 - val_loss: 1.0591 - learning_rate: 2.5000e-05\n",
      "Epoch 13/20\n",
      "\u001B[1m1400/1400\u001B[0m \u001B[32m━━━━━━━━━━━━━━━━━━━━\u001B[0m\u001B[37m\u001B[0m \u001B[1m18s\u001B[0m 13ms/step - accuracy: 0.4269 - loss: 1.0447 - val_accuracy: 0.4230 - val_loss: 1.0613 - learning_rate: 2.5000e-05\n",
      "Epoch 14/20\n",
      "\u001B[1m1400/1400\u001B[0m \u001B[32m━━━━━━━━━━━━━━━━━━━━\u001B[0m\u001B[37m\u001B[0m \u001B[1m18s\u001B[0m 13ms/step - accuracy: 0.4256 - loss: 1.0433 - val_accuracy: 0.4139 - val_loss: 1.0609 - learning_rate: 1.2500e-05\n"
     ]
    }
   ],
   "execution_count": 12
  },
  {
   "metadata": {
    "ExecuteTime": {
     "end_time": "2025-06-25T11:33:15.566197Z",
     "start_time": "2025-06-25T11:33:15.497706Z"
    }
   },
   "cell_type": "code",
   "source": "model.save(MODEL_SAVE_PATH)",
   "id": "deb3b342bf07cfa8",
   "outputs": [],
   "execution_count": 13
  },
  {
   "metadata": {
    "ExecuteTime": {
     "end_time": "2025-06-25T11:33:18.718494Z",
     "start_time": "2025-06-25T11:33:16.205666Z"
    }
   },
   "cell_type": "code",
   "source": [
    "print(\"\\n[4] Оценка модели...\")\n",
    "test_loss, test_acc = model.evaluate(X_test, y_test)\n",
    "y_pred = model.predict(X_test)\n",
    "y_pred = (y_pred > 0.5).astype(int) if NUM_CLASSES == 2 else np.argmax(y_pred, axis=1)\n",
    "print(f\"\\nТочность: {test_acc:.4f}, Потери: {test_loss:.4f}\")\n",
    "print(\"\\nClassification Report:\\n\", classification_report(y_test, y_pred))"
   ],
   "id": "771ca08c81932bc8",
   "outputs": [
    {
     "name": "stdout",
     "output_type": "stream",
     "text": [
      "\n",
      "[4] Оценка модели...\n",
      "\u001B[1m350/350\u001B[0m \u001B[32m━━━━━━━━━━━━━━━━━━━━\u001B[0m\u001B[37m\u001B[0m \u001B[1m1s\u001B[0m 4ms/step - accuracy: 0.4514 - loss: 1.0470\n",
      "\u001B[1m350/350\u001B[0m \u001B[32m━━━━━━━━━━━━━━━━━━━━\u001B[0m\u001B[37m\u001B[0m \u001B[1m1s\u001B[0m 3ms/step\n",
      "\n",
      "Точность: 0.4532, Потери: 1.0469\n",
      "\n",
      "Classification Report:\n",
      "               precision    recall  f1-score   support\n",
      "\n",
      "           0       0.63      0.39      0.49      6104\n",
      "           1       0.36      0.55      0.44      2834\n",
      "           2       0.36      0.49      0.41      2262\n",
      "\n",
      "    accuracy                           0.45     11200\n",
      "   macro avg       0.45      0.48      0.45     11200\n",
      "weighted avg       0.51      0.45      0.46     11200\n",
      "\n"
     ]
    }
   ],
   "execution_count": 14
  },
  {
   "metadata": {
    "ExecuteTime": {
     "end_time": "2025-06-25T11:33:23.155Z",
     "start_time": "2025-06-25T11:33:22.907029Z"
    }
   },
   "cell_type": "code",
   "source": [
    "plt.figure(figsize=(12, 4))\n",
    "plt.subplot(1, 2, 1)\n",
    "plt.plot(history.history['accuracy'], label='Train Accuracy')\n",
    "plt.plot(history.history['val_accuracy'], label='Validation Accuracy')\n",
    "plt.title('Accuracy')\n",
    "plt.legend()\n",
    "plt.subplot(1, 2, 2)\n",
    "plt.plot(history.history['loss'], label='Train Loss')\n",
    "plt.plot(history.history['val_loss'], label='Validation Loss')\n",
    "plt.title('Loss')\n",
    "plt.legend()\n",
    "plt.tight_layout()\n",
    "plt.show()"
   ],
   "id": "fb1cbc8c437b465",
   "outputs": [
    {
     "data": {
      "text/plain": [
       "<Figure size 1200x400 with 2 Axes>"
      ],
      "image/png": "[encoded data removed]"
     },
     "metadata": {},
     "output_type": "display_data"
    }
   ],
   "execution_count": 15
  },
  {
   "metadata": {},
   "cell_type": "code",
   "outputs": [],
   "execution_count": null,
   "source": "",
   "id": "a693bde95fba0f7f"
  }
 ],
 "metadata": {
  "kernelspec": {
   "display_name": "Python 3",
   "language": "python",
   "name": "python3"
  },
  "language_info": {
   "codemirror_mode": {
    "name": "ipython",
    "version": 2
   },
   "file_extension": ".py",
   "mimetype": "text/x-python",
   "name": "python",
   "nbconvert_exporter": "python",
   "pygments_lexer": "ipython2",
   "version": "2.7.6"
  }
 },
 "nbformat": 4,
 "nbformat_minor": 5
}
