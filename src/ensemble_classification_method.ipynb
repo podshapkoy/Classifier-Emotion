{
 "cells": [
  {
   "metadata": {
    "ExecuteTime": {
     "end_time": "2025-06-25T11:38:28.939640Z",
     "start_time": "2025-06-25T11:38:28.521191Z"
    }
   },
   "cell_type": "code",
   "source": [
    "from sklearn.cluster import KMeans\n",
    "from sklearn.exceptions import UndefinedMetricWarning\n",
    "import numpy as np\n",
    "import pandas as pd\n",
    "import pickle\n",
    "import os\n",
    "from scipy.signal import find_peaks, welch\n",
    "from sklearn.preprocessing import RobustScaler\n",
    "from sklearn.ensemble import RandomForestClassifier\n",
    "from sklearn.metrics import classification_report, confusion_matrix\n",
    "from sklearn.model_selection import train_test_split, StratifiedKFold, cross_val_score\n",
    "from imblearn.over_sampling import SMOTE\n",
    "from imblearn.under_sampling import RandomUnderSampler\n",
    "from imblearn.pipeline import Pipeline\n",
    "from tqdm import tqdm\n",
    "import matplotlib.pyplot as plt\n",
    "import seaborn as sns\n",
    "import warnings"
   ],
   "id": "2023bc5bbe81fc21",
   "outputs": [],
   "execution_count": 2
  },
  {
   "metadata": {
    "ExecuteTime": {
     "end_time": "2025-06-25T11:38:29.533026Z",
     "start_time": "2025-06-25T11:38:29.530033Z"
    }
   },
   "cell_type": "code",
   "source": [
    "DATA_PATH = '../data/deap-dataset/data_preprocessed_python'\n",
    "NUM_PARTICIPANTS = 32\n",
    "RANDOM_STATE = 42\n",
    "N_CLUSTERS = 4\n",
    "\n",
    "warnings.filterwarnings('ignore', category=UserWarning)\n",
    "warnings.filterwarnings('ignore', category=UndefinedMetricWarning)\n",
    "warnings.filterwarnings(\"ignore\", category=FutureWarning, module=\"sklearn\")"
   ],
   "id": "6644630e5e8f7efb",
   "outputs": [],
   "execution_count": 3
  },
  {
   "metadata": {
    "ExecuteTime": {
     "end_time": "2025-06-25T11:38:35.305989Z",
     "start_time": "2025-06-25T11:38:35.303016Z"
    }
   },
   "cell_type": "code",
   "source": [
    "def load_participant_data(filename):\n",
    "    \"\"\"Загрузка данных участника с обработкой ошибок\"\"\"\n",
    "    try:\n",
    "        with open(filename, 'rb') as f:\n",
    "            data = pickle.load(f, encoding='latin1')\n",
    "            assert 'data' in data and 'labels' in data\n",
    "            return data\n",
    "    except Exception as e:\n",
    "        print(f\"Ошибка загрузки {filename}: {str(e)}\")\n",
    "        return None"
   ],
   "id": "6a471d6ff11dd35f",
   "outputs": [],
   "execution_count": 4
  },
  {
   "metadata": {
    "ExecuteTime": {
     "end_time": "2025-06-25T11:38:53.167710Z",
     "start_time": "2025-06-25T11:38:53.157982Z"
    }
   },
   "cell_type": "code",
   "source": [
    "def extract_enhanced_features(data):\n",
    "    \"\"\"Извлечение расширенных признаков из одного трейла\"\"\"\n",
    "    features_list = []\n",
    "    for trial in data:\n",
    "        eeg = trial[:32]  # 32 канала ЭЭГ\n",
    "\n",
    "        # Частотные диапазоны\n",
    "        freq_bands = {\n",
    "            'delta': (1, 3), 'theta': (4, 7), 'alpha': (8, 13),\n",
    "            'beta': (14, 30), 'gamma': (31, 45)\n",
    "        }\n",
    "        freq_features = []\n",
    "        for ch in eeg:\n",
    "            f, psd = welch(ch, fs=128, nperseg=256)\n",
    "            for band, (low, high) in freq_bands.items():\n",
    "                band_mask = (f >= low) & (f <= high)\n",
    "                if np.any(band_mask):\n",
    "                    band_psd = psd[band_mask]\n",
    "                    freq_features.extend([\n",
    "                        np.log1p(np.mean(band_psd)),\n",
    "                        np.percentile(band_psd, 75),\n",
    "                        np.std(band_psd)\n",
    "                    ])\n",
    "\n",
    "        # Статистические признаки\n",
    "        stat_features = []\n",
    "        for ch in eeg:\n",
    "            ch_norm = (ch - np.mean(ch)) / (np.std(ch) + 1e-6)\n",
    "            stat_features.extend([\n",
    "                np.mean(ch),\n",
    "                np.std(ch),\n",
    "                np.max(ch) - np.min(ch),\n",
    "                len(find_peaks(ch_norm, height=1)[0])\n",
    "            ])\n",
    "\n",
    "        # ЭКГ (канал 32)\n",
    "        ecg = trial[32]\n",
    "        ecg_clean = (ecg - np.median(ecg)) / (np.std(ecg) + 1e-6)\n",
    "        peaks, _ = find_peaks(ecg_clean, height=1.5, distance=100)\n",
    "        rr_intervals = np.diff(peaks) / 128.0 if len(peaks) > 1 else np.array([0])\n",
    "        hrv_features = [\n",
    "            np.mean(rr_intervals),\n",
    "            np.std(rr_intervals),\n",
    "            len(peaks)\n",
    "        ]\n",
    "\n",
    "        # GSR (канал 37)\n",
    "        gsr = trial[37]\n",
    "        gsr_norm = (gsr - np.min(gsr)) / (np.max(gsr) - np.min(gsr) + 1e-6)\n",
    "        scr_peaks, _ = find_peaks(gsr_norm, prominence=0.1, distance=50)\n",
    "        scr_features = [\n",
    "            np.ptp(gsr),\n",
    "            np.mean(gsr),\n",
    "            len(scr_peaks)\n",
    "        ]\n",
    "\n",
    "        features_list.append(np.concatenate([\n",
    "            freq_features,\n",
    "            stat_features,\n",
    "            hrv_features,\n",
    "            scr_features\n",
    "        ]))\n",
    "    return np.array(features_list)"
   ],
   "id": "7c3ac860773381bc",
   "outputs": [],
   "execution_count": 5
  },
  {
   "metadata": {
    "ExecuteTime": {
     "end_time": "2025-06-25T11:39:09.851641Z",
     "start_time": "2025-06-25T11:39:09.846655Z"
    }
   },
   "cell_type": "code",
   "source": [
    "def cluster_emotions(labels_df):\n",
    "    \"\"\"Кластеризация эмоций с помощью KMeans и интерпретация кластеров\"\"\"\n",
    "    scaler = RobustScaler()\n",
    "    scaled_labels = scaler.fit_transform(labels_df[['valence', 'arousal', 'dominance']])\n",
    "    \n",
    "    kmeans = KMeans(n_clusters=N_CLUSTERS, random_state=RANDOM_STATE)\n",
    "    clusters = kmeans.fit_predict(scaled_labels)\n",
    "    \n",
    "    cluster_stats = labels_df.groupby(clusters)[['valence', 'arousal', 'dominance']].mean()\n",
    "    \n",
    "    emotion_map = {}\n",
    "    for cluster in range(N_CLUSTERS):\n",
    "        v, a, d = cluster_stats.loc[cluster]\n",
    "        \n",
    "        if v > 5 and a > 5:\n",
    "            emotion_map[cluster] = \"excited\"\n",
    "        elif v > 5 and a < 5:\n",
    "            emotion_map[cluster] = \"content\"\n",
    "        elif v < 5 and a > 5:\n",
    "            emotion_map[cluster] = \"angry/fear\"\n",
    "        else:\n",
    "            emotion_map[cluster] = \"neutral\"\n",
    "    \n",
    "    return [emotion_map[c] for c in clusters], cluster_stats"
   ],
   "id": "4ba41b2b3f95146c",
   "outputs": [],
   "execution_count": 6
  },
  {
   "metadata": {
    "ExecuteTime": {
     "end_time": "2025-06-25T11:39:19.186783Z",
     "start_time": "2025-06-25T11:39:19.183692Z"
    }
   },
   "cell_type": "code",
   "source": [
    "def build_balanced_pipeline():\n",
    "    \"\"\"Создаёт пайплайн с балансировкой и RandomForest\"\"\"\n",
    "    return Pipeline([\n",
    "        ('scaler', RobustScaler()),\n",
    "        ('smote', SMOTE(k_neighbors=3, random_state=RANDOM_STATE)),\n",
    "        ('under', RandomUnderSampler(random_state=RANDOM_STATE)),\n",
    "        ('model', RandomForestClassifier(\n",
    "            n_estimators=200,\n",
    "            max_depth=10,\n",
    "            random_state=RANDOM_STATE,\n",
    "            n_jobs=-1\n",
    "        ))\n",
    "    ])"
   ],
   "id": "68dfb0d20f9063f2",
   "outputs": [],
   "execution_count": 7
  },
  {
   "metadata": {
    "ExecuteTime": {
     "end_time": "2025-06-25T11:39:42.513319Z",
     "start_time": "2025-06-25T11:39:42.506350Z"
    }
   },
   "cell_type": "code",
   "source": [
    "def evaluate_model(pipeline, X, y, X_test, y_test):\n",
    "    \"\"\"Оценка модели с кросс-валидацией\"\"\"\n",
    "    classes = np.unique(y)\n",
    "    \n",
    "    try:\n",
    "        if len(classes) < 2:\n",
    "            raise ValueError(\"Недостаточно классов для классификации\")\n",
    "            \n",
    "        cv = StratifiedKFold(n_splits=min(5, len(classes)), shuffle=True, random_state=RANDOM_STATE)\n",
    "        cv_scores = cross_val_score(\n",
    "            pipeline, X, y, \n",
    "            cv=cv, \n",
    "            scoring='f1_weighted', \n",
    "            n_jobs=-1,\n",
    "            error_score='raise'\n",
    "        )\n",
    "        print(f\"CV F1 Score: {np.mean(cv_scores):.3f} ± {np.std(cv_scores):.3f}\")\n",
    "    except Exception as e:\n",
    "        print(f\"Ошибка кросс-валидации: {str(e)}\")\n",
    "        pipeline.fit(X, y)\n",
    "    else:\n",
    "        pipeline.fit(X, y)\n",
    "    \n",
    "    y_pred = pipeline.predict(X_test)\n",
    "    \n",
    "    print(\"\\nClassification Report:\")\n",
    "    print(classification_report(y_test, y_pred, zero_division=0))\n",
    "    \n",
    "    cm = confusion_matrix(y_test, y_pred, labels=classes)\n",
    "    plt.figure(figsize=(8, 6))\n",
    "    sns.heatmap(cm, annot=True, fmt='d', cmap='Blues', \n",
    "                xticklabels=classes, yticklabels=classes)\n",
    "    plt.title('Confusion Matrix')\n",
    "    plt.show()"
   ],
   "id": "f262b915f6dac844",
   "outputs": [],
   "execution_count": 8
  },
  {
   "cell_type": "code",
   "id": "initial_id",
   "metadata": {
    "collapsed": true,
    "ExecuteTime": {
     "end_time": "2025-06-25T11:40:01.726577Z",
     "start_time": "2025-06-25T11:40:01.719111Z"
    }
   },
   "source": [
    "def main():\n",
    "    all_features = []\n",
    "    all_ratings = []\n",
    "    \n",
    "    for i in tqdm(range(1, NUM_PARTICIPANTS + 1), desc=\"Processing participants\"):\n",
    "        filename = f's{i:02d}.dat'\n",
    "        filepath = os.path.join(DATA_PATH, filename)\n",
    "\n",
    "        data = load_participant_data(filepath)\n",
    "        if data is None:\n",
    "            continue\n",
    "\n",
    "        for clip_idx in range(40):\n",
    "            try:\n",
    "                labels = data['labels'][clip_idx]\n",
    "                clip_data = data['data'][clip_idx]\n",
    "                features = extract_enhanced_features(np.expand_dims(clip_data, axis=0))[0]\n",
    "                \n",
    "                all_features.append(features)\n",
    "                all_ratings.append(labels[:3])\n",
    "            except Exception as e:\n",
    "                print(f\"Error processing participant {i} clip {clip_idx}: {str(e)}\")\n",
    "                continue\n",
    "\n",
    "    feature_columns = (\n",
    "        [f'eeg_{band}_{stat}_ch{ch}'\n",
    "         for band in ['delta','theta','alpha','beta','gamma']\n",
    "         for stat in ['log_mean','p75','std']\n",
    "         for ch in range(32)] +\n",
    "        [f'eeg_stat_{stat}_ch{ch}'\n",
    "         for stat in ['mean','std','range','peaks']\n",
    "         for ch in range(32)] +\n",
    "        ['hrv_mean', 'hrv_std', 'hr_peaks'] +\n",
    "        ['gsr_range', 'gsr_mean', 'scr_peaks']\n",
    "    )\n",
    "    \n",
    "    df = pd.DataFrame(all_features, columns=feature_columns)\n",
    "    ratings_df = pd.DataFrame(all_ratings, columns=['valence', 'arousal', 'dominance'])\n",
    "    \n",
    "    emotions, cluster_stats = cluster_emotions(ratings_df)\n",
    "    df['emotion'] = emotions\n",
    "    \n",
    "    print(\"\\nРаспределение кластеров эмоций:\")\n",
    "    print(cluster_stats)\n",
    "    print(\"\\nРаспределение эмоций:\")\n",
    "    print(df['emotion'].value_counts())\n",
    "    \n",
    "    X_train, X_test, y_train, y_test = train_test_split(\n",
    "        df.drop('emotion', axis=1),\n",
    "        df['emotion'],\n",
    "        test_size=0.2,\n",
    "        stratify=df['emotion'],\n",
    "        random_state=RANDOM_STATE\n",
    "    )\n",
    "    \n",
    "    pipeline = build_balanced_pipeline()\n",
    "    evaluate_model(pipeline, X_train, y_train, X_test, y_test)"
   ],
   "outputs": [],
   "execution_count": 9
  },
  {
   "metadata": {
    "ExecuteTime": {
     "end_time": "2025-06-25T11:40:34.308731Z",
     "start_time": "2025-06-25T11:40:03.471731Z"
    }
   },
   "cell_type": "code",
   "source": [
    "if __name__ == \"__main__\":\n",
    "    main()"
   ],
   "id": "c2121ea5e0998054",
   "outputs": [
    {
     "name": "stderr",
     "output_type": "stream",
     "text": [
      "Processing participants: 100%|██████████| 32/32 [00:26<00:00,  1.19it/s]\n"
     ]
    },
    {
     "name": "stdout",
     "output_type": "stream",
     "text": [
      "\n",
      "Распределение кластеров эмоций:\n",
      "    valence   arousal  dominance\n",
      "0  1.664057  2.261543   7.331286\n",
      "1  3.099868  6.587384   4.360364\n",
      "2  3.230122  2.822683   3.779207\n",
      "3  6.192533  3.559067   5.891867\n",
      "\n",
      "Распределение эмоций:\n",
      "emotion\n",
      "neutral       678\n",
      "angry/fear    302\n",
      "content       300\n",
      "Name: count, dtype: int64\n"
     ]
    },
    {
     "name": "stderr",
     "output_type": "stream",
     "text": [
      "/Users/irina/PycharmProjects/pythonProject1/.venv/lib/python3.9/site-packages/sklearn/base.py:474: FutureWarning: `BaseEstimator._validate_data` is deprecated in 1.6 and will be removed in 1.7. Use `sklearn.utils.validation.validate_data` instead. This function becomes public and is part of the scikit-learn developer API.\n",
      "  warnings.warn(\n",
      "/Users/irina/PycharmProjects/pythonProject1/.venv/lib/python3.9/site-packages/sklearn/base.py:474: FutureWarning: `BaseEstimator._validate_data` is deprecated in 1.6 and will be removed in 1.7. Use `sklearn.utils.validation.validate_data` instead. This function becomes public and is part of the scikit-learn developer API.\n",
      "  warnings.warn(\n",
      "/Users/irina/PycharmProjects/pythonProject1/.venv/lib/python3.9/site-packages/sklearn/base.py:474: FutureWarning: `BaseEstimator._validate_data` is deprecated in 1.6 and will be removed in 1.7. Use `sklearn.utils.validation.validate_data` instead. This function becomes public and is part of the scikit-learn developer API.\n",
      "  warnings.warn(\n",
      "/Users/irina/PycharmProjects/pythonProject1/.venv/lib/python3.9/site-packages/sklearn/utils/deprecation.py:151: FutureWarning: 'force_all_finite' was renamed to 'ensure_all_finite' in 1.6 and will be removed in 1.8.\n",
      "  warnings.warn(\n",
      "/Users/irina/PycharmProjects/pythonProject1/.venv/lib/python3.9/site-packages/sklearn/utils/deprecation.py:151: FutureWarning: 'force_all_finite' was renamed to 'ensure_all_finite' in 1.6 and will be removed in 1.8.\n",
      "  warnings.warn(\n",
      "/Users/irina/PycharmProjects/pythonProject1/.venv/lib/python3.9/site-packages/sklearn/base.py:484: FutureWarning: `BaseEstimator._check_n_features` is deprecated in 1.6 and will be removed in 1.7. Use `sklearn.utils.validation._check_n_features` instead.\n",
      "  warnings.warn(\n",
      "/Users/irina/PycharmProjects/pythonProject1/.venv/lib/python3.9/site-packages/sklearn/base.py:484: FutureWarning: `BaseEstimator._check_n_features` is deprecated in 1.6 and will be removed in 1.7. Use `sklearn.utils.validation._check_n_features` instead.\n",
      "  warnings.warn(\n",
      "/Users/irina/PycharmProjects/pythonProject1/.venv/lib/python3.9/site-packages/sklearn/utils/deprecation.py:151: FutureWarning: 'force_all_finite' was renamed to 'ensure_all_finite' in 1.6 and will be removed in 1.8.\n",
      "  warnings.warn(\n",
      "/Users/irina/PycharmProjects/pythonProject1/.venv/lib/python3.9/site-packages/sklearn/base.py:493: FutureWarning: `BaseEstimator._check_feature_names` is deprecated in 1.6 and will be removed in 1.7. Use `sklearn.utils.validation._check_feature_names` instead.\n",
      "  warnings.warn(\n",
      "/Users/irina/PycharmProjects/pythonProject1/.venv/lib/python3.9/site-packages/sklearn/base.py:493: FutureWarning: `BaseEstimator._check_feature_names` is deprecated in 1.6 and will be removed in 1.7. Use `sklearn.utils.validation._check_feature_names` instead.\n",
      "  warnings.warn(\n",
      "/Users/irina/PycharmProjects/pythonProject1/.venv/lib/python3.9/site-packages/sklearn/base.py:484: FutureWarning: `BaseEstimator._check_n_features` is deprecated in 1.6 and will be removed in 1.7. Use `sklearn.utils.validation._check_n_features` instead.\n",
      "  warnings.warn(\n",
      "/Users/irina/PycharmProjects/pythonProject1/.venv/lib/python3.9/site-packages/sklearn/base.py:493: FutureWarning: `BaseEstimator._check_feature_names` is deprecated in 1.6 and will be removed in 1.7. Use `sklearn.utils.validation._check_feature_names` instead.\n",
      "  warnings.warn(\n"
     ]
    },
    {
     "name": "stdout",
     "output_type": "stream",
     "text": [
      "CV F1 Score: 0.484 ± 0.009\n",
      "\n",
      "Classification Report:\n",
      "              precision    recall  f1-score   support\n",
      "\n",
      "  angry/fear       0.40      0.50      0.44        60\n",
      "     content       0.31      0.30      0.30        60\n",
      "     neutral       0.58      0.52      0.55       136\n",
      "\n",
      "    accuracy                           0.46       256\n",
      "   macro avg       0.43      0.44      0.43       256\n",
      "weighted avg       0.47      0.46      0.47       256\n",
      "\n"
     ]
    },
    {
     "data": {
      "text/plain": [
       "<Figure size 800x600 with 2 Axes>"
      ],
      "image/png": "[encoded data removed]"
     },
     "metadata": {},
     "output_type": "display_data"
    }
   ],
   "execution_count": 10
  },
  {
   "metadata": {},
   "cell_type": "code",
   "outputs": [],
   "execution_count": null,
   "source": "",
   "id": "c4eba2d95b5a374b"
  }
 ],
 "metadata": {
  "kernelspec": {
   "display_name": "Python 3",
   "language": "python",
   "name": "python3"
  },
  "language_info": {
   "codemirror_mode": {
    "name": "ipython",
    "version": 2
   },
   "file_extension": ".py",
   "mimetype": "text/x-python",
   "name": "python",
   "nbconvert_exporter": "python",
   "pygments_lexer": "ipython2",
   "version": "2.7.6"
  }
 },
 "nbformat": 4,
 "nbformat_minor": 5
}
